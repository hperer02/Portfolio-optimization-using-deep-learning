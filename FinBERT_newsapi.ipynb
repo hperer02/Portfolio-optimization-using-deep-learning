{
 "cells": [
  {
   "cell_type": "code",
   "execution_count": 1,
   "id": "1687f306-b153-49eb-8cc3-f7b638f110ad",
   "metadata": {
    "tags": []
   },
   "outputs": [
    {
     "name": "stderr",
     "output_type": "stream",
     "text": [
      "C:\\Users\\Mihan Perera\\AppData\\Local\\Programs\\Python\\Python311\\Lib\\site-packages\\tqdm\\auto.py:21: TqdmWarning: IProgress not found. Please update jupyter and ipywidgets. See https://ipywidgets.readthedocs.io/en/stable/user_install.html\n",
      "  from .autonotebook import tqdm as notebook_tqdm\n"
     ]
    }
   ],
   "source": [
    "# Use a pipeline as a high-level helper\n",
    "\n",
    "\n",
    "\n"
   ]
  },
  {
   "cell_type": "code",
   "execution_count": 11,
   "id": "8c677fe5-c4df-4de3-9d57-d2e4f53428cb",
   "metadata": {},
   "outputs": [],
   "source": [
    "from transformers import pipeline\n",
    "from transformers import AutoTokenizer, AutoModelForSequenceClassification\n",
    "from statistics import mean \n",
    "from datetime import date, timedelta\n",
    "import requests\n",
    "\n",
    "\n",
    "# Function to retrieve financial news for a particular stock and date\n",
    "def get_stock_news(stock_symbol, date):\n",
    "    \n",
    "    newsapi_key = 'ade9bf20-9bf7-4875-afdc-a2a71b11ceff'\n",
    "    base_url = 'https://newsapi.org/v2/everything'\n",
    "  \n",
    "    # Date format should be in yyyy-mm-dd\n",
    "    date_str = date\n",
    "    \n",
    "    # Define the parameters for the API request\n",
    "    params = {\n",
    "        'apiKey': newsapi_key,\n",
    "        'q': stock_symbol,\n",
    "        'from': date_str,\n",
    "        'to': date_str,\n",
    "        'language': 'en',  # English language news\n",
    "    }\n",
    "     \n",
    "    try:\n",
    "        # Make the API request\n",
    "        response = requests.get(base_url, params=params)\n",
    "        data = response.json()\n",
    "        \n",
    "        if 'articles' in data:\n",
    "            \n",
    "            # Retrieve and return the list of news articles\n",
    "            news_articles = data['articles']\n",
    "            return news_articles\n",
    "        else:\n",
    "            return \"No news articles found for this stock and date.\"\n",
    "        \n",
    "    except requests.exceptions.RequestException as e:\n",
    "        return f\"Error: {e}\"\n",
    "\n",
    "    \n",
    "\n",
    "    # Function to perform sentiment analysis on financial news articles\n",
    "def sentiment_score(symbol, date):\n",
    "    \n",
    "    # Initialize an empty list to store sentiment scores\n",
    "    pipe = pipeline(\"text-classification\", model=\"ProsusAI/finbert\")\n",
    "    tokenizer = AutoTokenizer.from_pretrained(\"ProsusAI/finbert\")\n",
    "    model = AutoModelForSequenceClassification.from_pretrained(\"ProsusAI/finbert\")\n",
    "    \n",
    "    # Initialize an empty list to store sentiment scores\n",
    "    score = []\n",
    "    \n",
    "    # Get the list of news articles using get_stock_news function\n",
    "    news_articles = get_stock_news(symbol, date)\n",
    "    \n",
    "    if isinstance(news_articles, list):\n",
    "        print(f\"Financial news for {stock_symbol} on {date}:\")\n",
    "      \n",
    "        # Iterate through each news article and perform sentiment analysis\n",
    "        for index, article in enumerate(news_articles, start=1):\n",
    "            \n",
    "            res = pipe(article['title'])\n",
    "            \n",
    "            # Append sentiment scores to the list based on sentiment labels\n",
    "            if res[0]['label'] == 'positive':\n",
    "                score.append(res[0]['score'])  \n",
    "            if res[0]['label'] == 'negative':\n",
    "                score.append(-res[0]['score'])\n",
    "            if res[0]['label'] == 'neutral':\n",
    "                score.append(res[0]['score']*0)\n",
    "     \n",
    "        return mean(score)\n",
    "\n"
   ]
  }
 ],
 "metadata": {
  "kernelspec": {
   "display_name": "Python 3 (ipykernel)",
   "language": "python",
   "name": "python3"
  },
  "language_info": {
   "codemirror_mode": {
    "name": "ipython",
    "version": 3
   },
   "file_extension": ".py",
   "mimetype": "text/x-python",
   "name": "python",
   "nbconvert_exporter": "python",
   "pygments_lexer": "ipython3",
   "version": "3.11.0"
  }
 },
 "nbformat": 4,
 "nbformat_minor": 5
}
